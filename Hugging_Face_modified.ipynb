{
 "cells": [
  {
   "cell_type": "code",
   "execution_count": null,
   "id": "bd6da8e5",
   "metadata": {},
   "outputs": [],
   "source": [
    "#!curl -s https://packagecloud.io/install/repositories/github/git-lfs/script.rpm.sh | sudo bash\n",
    "\n",
    "#!sudo yum install git-lfs -y\n",
    "\n",
    "#!git lfs install"
   ]
  },
  {
   "cell_type": "code",
   "execution_count": null,
   "id": "7613cf76",
   "metadata": {},
   "outputs": [],
   "source": [
    "from sagemaker.huggingface.model import HuggingFaceModel\n",
    "import sagemaker\n",
    "\n",
    "role = sagemaker.get_execution_role()\n",
    "\n",
    "# create Hugging Face Model Class\n",
    "huggingface_model = HuggingFaceModel(\n",
    "   model_data=\"s3://chatbotmodel/model.tar.gz\",          # path to your trained SageMaker model\n",
    "   role=role,                                            # IAM role with permissions to create an endpoint\n",
    "   transformers_version=\"4.6.1\",                         # Transformers version used\n",
    "   pytorch_version=\"1.7.1\",                              # PyTorch version used\n",
    "   py_version='py36',                                    # Python version used\n",
    ")\n",
    "\n",
    "# deploy model to SageMaker Inference\n",
    "predictor = huggingface_model.deploy(\n",
    "   initial_instance_count=1,\n",
    "   instance_type=\"ml.m5.xlarge\"\n",
    ")"
   ]
  },
  {
   "cell_type": "code",
   "execution_count": null,
   "id": "fe0b16d6",
   "metadata": {},
   "outputs": [],
   "source": [
    "data = {\n",
    "\t'inputs': {\n",
    "\t\t\"past_user_inputs\": [],\n",
    "\t\t\"generated_responses\": [],\n",
    "\t\t\"text\": \"Hi\",\n",
    "\t}\n",
    "}\n",
    "# request\n",
    "predictor.predict(data)"
   ]
  },
  {
   "cell_type": "code",
   "execution_count": null,
   "id": "5e53fd40",
   "metadata": {},
   "outputs": [],
   "source": [
    "predictor.delete_endpoint()"
   ]
  },
  {
   "cell_type": "code",
   "execution_count": null,
   "id": "db8f1fb0",
   "metadata": {},
   "outputs": [],
   "source": [
    "#tar zcvf model.tar.gz *"
   ]
  },
  {
   "cell_type": "code",
   "execution_count": null,
   "id": "0bf2fa57",
   "metadata": {},
   "outputs": [],
   "source": [
    "#aws s3 cp model.tar.gz s3://chatbotmodel"
   ]
  },
  {
   "cell_type": "code",
   "execution_count": null,
   "id": "f6f75b4c",
   "metadata": {},
   "outputs": [],
   "source": []
  }
 ],
 "metadata": {
  "kernelspec": {
   "display_name": "conda_pytorch_latest_p36",
   "language": "python",
   "name": "conda_pytorch_latest_p36"
  },
  "language_info": {
   "codemirror_mode": {
    "name": "ipython",
    "version": 3
   },
   "file_extension": ".py",
   "mimetype": "text/x-python",
   "name": "python",
   "nbconvert_exporter": "python",
   "pygments_lexer": "ipython3",
   "version": "3.6.13"
  }
 },
 "nbformat": 4,
 "nbformat_minor": 5
}
